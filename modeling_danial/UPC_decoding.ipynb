{
 "cells": [
  {
   "cell_type": "code",
   "execution_count": 1,
   "metadata": {},
   "outputs": [
    {
     "name": "stdout",
     "output_type": "stream",
     "text": [
      "Train data :  (647054, 7)\n",
      "Test  data :  (653646, 6)\n",
      "submission  data :  (95674, 39)\n"
     ]
    }
   ],
   "source": [
    "# Import the functions used in this project\n",
    "import awesome_functions as af\n",
    "\n",
    "# Pretty display for notebooks\n",
    "%matplotlib inline\n",
    "\n",
    "# Ignore the warnings\n",
    "import warnings\n",
    "warnings.filterwarnings('ignore')\n",
    "\n",
    "# Load the dataset\n",
    "train = pd.read_csv(\"../asset/train.csv\")\n",
    "test = pd.read_csv(\"../asset/test.csv\")\n",
    "submission = pd.read_csv(\"../asset/sample_submission.csv\")\n",
    "\n",
    "# Success - Display the first record\n",
    "print(\"Train data : \", train.shape)\n",
    "print(\"Test  data : \", test.shape)\n",
    "print(\"submission  data : \", submission.shape)\n",
    "\n",
    "from sklearn.metrics import confusion_matrix\n",
    "from sklearn.metrics import classification_report\n",
    "import pickle as pkl\n",
    "slack_url = pkl.load(open(\"Slack_url/send_url.pickle\", \"rb\"))\n",
    "\n",
    "import xgboost\n",
    "from sklearn.metrics import log_loss\n",
    "from sklearn.naive_bayes import MultinomialNB\n",
    "from scipy.sparse import csr_matrix\n",
    "def fitNaiveBayesModel(X, y):\n",
    "    return MultinomialNB().fit(X, y)\n",
    "\n",
    "# 원본을 유지하기 위해서 카피\n",
    "df_train = train.copy()\n",
    "df_test = test.copy()\n",
    "df_submission = submission.copy()\n",
    "\n",
    "df_train_dd = pd.read_csv(\"Feature_matrix/df_train_dd_201807291831.csv\")\n",
    "df_test_dd = pd.read_csv(\"Feature_matrix/df_test_dd_201807291855.csv\")\n",
    "df_ratio = pd.read_csv(\"Feature_matrix/df_new_has_all_the_ratio_201808031807.csv\")"
   ]
  },
  {
   "cell_type": "code",
   "execution_count": 2,
   "metadata": {},
   "outputs": [],
   "source": [
    "def checksum(x):\n",
    "    try:\n",
    "        odd = map(int, ','.join(x[-1::-2]).split(','))\n",
    "        even = map(int, ','.join(x[-2::-2]).split(','))\n",
    "        sum_odd3 = sum(odd) * 3\n",
    "        total = sum_odd3 + sum(even)\n",
    "        rem = total % 10\n",
    "        if rem == 0:\n",
    "            return rem\n",
    "        return 10 - rem\n",
    "    except:\n",
    "        return 0\n",
    "\n",
    "def full_upc(x):\n",
    "    try:\n",
    "        if len(x) < 12:\n",
    "            missing = 11 - len(x)\n",
    "            zeros = ['0'] * missing\n",
    "            xx = zeros + ','.join(x).split(',') + [str(checksum(x))]\n",
    "            xx = ''.join(xx)\n",
    "            return xx\n",
    "    except:\n",
    "        return \"-9999\"\n",
    "\n",
    "def company(x):\n",
    "    try:\n",
    "        p = x[:6]\n",
    "        if p == '000000':\n",
    "            if x == \"000000-99990\":\n",
    "                return \"000000\"\n",
    "            return x[7:-3]\n",
    "        return p\n",
    "    except:\n",
    "        return \"-9999\"\n",
    "    \n",
    "def decodeStuffNeedsToBeDecoded(df_):\n",
    "    df = df_.copy()\n",
    "    col_list = [\"FinelineNumber\", \"DepartmentDescription\", \"Upc\"]\n",
    "    replace_nan_list = [\"1.1\", \"NULL\", \"-9999\"]\n",
    "    \n",
    "    for col in col_list:\n",
    "        col_idx = col_list.index(col)\n",
    "        df[col] = df[col].astype(str)\n",
    "        df[col] = df[col].apply(lambda a : a.split(\".\")[0] \\\n",
    "                                if a != \"nan\" else replace_nan_list[col_idx])\n",
    "        if col_idx == 2:\n",
    "            df[col] = df[col].apply(full_upc)\n",
    "            df[\"Company\"] = df[col].apply(company)\n",
    "    return df"
   ]
  },
  {
   "cell_type": "code",
   "execution_count": 3,
   "metadata": {},
   "outputs": [],
   "source": [
    "def getMostFrequentFeatureAsDf(df_, col):\n",
    "    \"\"\"\n",
    "        df_ : df_train or df_test\n",
    "        col : Most frequent item per visitnumber를 구하고자하는 컬럼명을 넣어준다. \n",
    "    \"\"\"\n",
    "    df = df_.copy()\n",
    "    tmp_df = df.groupby([\"VisitNumber\", col]).agg({\"ScanCount\" : np.sum}).reset_index()\n",
    "    mf_feature_li = []\n",
    "    scancount_li = []\n",
    "    for i, vn in enumerate(tmp_df.VisitNumber.unique()):\n",
    "        tmp = tmp_df[tmp_df.VisitNumber == vn]\n",
    "        max_count = tmp[\"ScanCount\"].max()\n",
    "        mf_feature = tmp[tmp[\"ScanCount\"] == max_count][col].values[0]\n",
    "        mf_feature_li.append(mf_feature)\n",
    "        scancount_li.append(max_count)\n",
    "        if i % 5000 == 0:\n",
    "            print(str(i) + \"까지 진행됨. \" + str(95674 - i) + \"개 남음.\")\n",
    "    key_value = \"MF_\" + col\n",
    "    result_df = pd.DataFrame({key_value : mf_feature_li, \"ScanCount\" : scancount_li})\n",
    "    return result_df\n",
    "\n",
    "def concatDf(df_1, df_2):\n",
    "    dd_cols = df_1.columns\n",
    "    if (\"MENS WEAR\" in dd_cols) and (\"MENSWEAR\" in dd_cols):\n",
    "        df_1[\"MENS WEAR\"] = df_1[\"MENSWEAR\"] + df_1[\"MENS WEAR\"]\n",
    "        df_1.drop(\"MENSWEAR\", axis=1, inplace = True)\n",
    "    return pd.concat([df_1, df_2], axis = 1)\n",
    "\n",
    "def concatMenswear(df):\n",
    "    df[\"MENS WEAR\"] = df[\"MENSWEAR\"] + df[\"MENS WEAR\"]\n",
    "    return df.drop(\"MENSWEAR\", axis=1)"
   ]
  },
  {
   "cell_type": "code",
   "execution_count": 13,
   "metadata": {},
   "outputs": [],
   "source": [
    "def getSpecifiedVisitNumberData(vn):\n",
    "    display(df_train[df_train.VisitNumber == vn])\n",
    "    display(df_train_dd[df_train_dd.VisitNumber == vn])"
   ]
  },
  {
   "cell_type": "code",
   "execution_count": 33,
   "metadata": {},
   "outputs": [],
   "source": [
    "def getDummiesDf(df):\n",
    "    dummie_col = df.columns[0]\n",
    "    ItemNumber = df[\"ScanCount\"]\n",
    "    dummies_desc = pd.get_dummies(df[dummie_col])\n",
    "    desc_cols = dummies_desc.columns\n",
    "    result_df = dummies_desc.apply(lambda x: x * ItemNumber)\n",
    "    result_df = pd.DataFrame(np.where(result_df < 0, 0, result_df), columns=result_df.columns)\n",
    "    return result_df"
   ]
  },
  {
   "cell_type": "code",
   "execution_count": 4,
   "metadata": {},
   "outputs": [],
   "source": [
    "df_decoded = decodeStuffNeedsToBeDecoded(df_train)"
   ]
  },
  {
   "cell_type": "code",
   "execution_count": 24,
   "metadata": {},
   "outputs": [],
   "source": [
    "df_test_decoded = decodeStuffNeedsToBeDecoded(df_test)"
   ]
  },
  {
   "cell_type": "code",
   "execution_count": 5,
   "metadata": {
    "scrolled": true
   },
   "outputs": [
    {
     "name": "stdout",
     "output_type": "stream",
     "text": [
      "0까지 진행됨. 95674개 남음.\n",
      "5000까지 진행됨. 90674개 남음.\n",
      "10000까지 진행됨. 85674개 남음.\n",
      "15000까지 진행됨. 80674개 남음.\n",
      "20000까지 진행됨. 75674개 남음.\n",
      "25000까지 진행됨. 70674개 남음.\n",
      "30000까지 진행됨. 65674개 남음.\n",
      "35000까지 진행됨. 60674개 남음.\n",
      "40000까지 진행됨. 55674개 남음.\n",
      "45000까지 진행됨. 50674개 남음.\n",
      "50000까지 진행됨. 45674개 남음.\n",
      "55000까지 진행됨. 40674개 남음.\n",
      "60000까지 진행됨. 35674개 남음.\n",
      "65000까지 진행됨. 30674개 남음.\n",
      "70000까지 진행됨. 25674개 남음.\n",
      "75000까지 진행됨. 20674개 남음.\n",
      "80000까지 진행됨. 15674개 남음.\n",
      "85000까지 진행됨. 10674개 남음.\n",
      "90000까지 진행됨. 5674개 남음.\n",
      "95000까지 진행됨. 674개 남음.\n",
      "0까지 진행됨. 95674개 남음.\n",
      "5000까지 진행됨. 90674개 남음.\n",
      "10000까지 진행됨. 85674개 남음.\n",
      "15000까지 진행됨. 80674개 남음.\n",
      "20000까지 진행됨. 75674개 남음.\n",
      "25000까지 진행됨. 70674개 남음.\n",
      "30000까지 진행됨. 65674개 남음.\n",
      "35000까지 진행됨. 60674개 남음.\n",
      "40000까지 진행됨. 55674개 남음.\n",
      "45000까지 진행됨. 50674개 남음.\n",
      "50000까지 진행됨. 45674개 남음.\n",
      "55000까지 진행됨. 40674개 남음.\n",
      "60000까지 진행됨. 35674개 남음.\n",
      "65000까지 진행됨. 30674개 남음.\n",
      "70000까지 진행됨. 25674개 남음.\n",
      "75000까지 진행됨. 20674개 남음.\n",
      "80000까지 진행됨. 15674개 남음.\n",
      "85000까지 진행됨. 10674개 남음.\n",
      "90000까지 진행됨. 5674개 남음.\n",
      "95000까지 진행됨. 674개 남음.\n",
      "0까지 진행됨. 95674개 남음.\n",
      "5000까지 진행됨. 90674개 남음.\n",
      "10000까지 진행됨. 85674개 남음.\n",
      "15000까지 진행됨. 80674개 남음.\n",
      "20000까지 진행됨. 75674개 남음.\n",
      "25000까지 진행됨. 70674개 남음.\n",
      "30000까지 진행됨. 65674개 남음.\n",
      "35000까지 진행됨. 60674개 남음.\n",
      "40000까지 진행됨. 55674개 남음.\n",
      "45000까지 진행됨. 50674개 남음.\n",
      "50000까지 진행됨. 45674개 남음.\n",
      "55000까지 진행됨. 40674개 남음.\n",
      "60000까지 진행됨. 35674개 남음.\n",
      "65000까지 진행됨. 30674개 남음.\n",
      "70000까지 진행됨. 25674개 남음.\n",
      "75000까지 진행됨. 20674개 남음.\n",
      "80000까지 진행됨. 15674개 남음.\n",
      "85000까지 진행됨. 10674개 남음.\n",
      "90000까지 진행됨. 5674개 남음.\n",
      "95000까지 진행됨. 674개 남음.\n"
     ]
    }
   ],
   "source": [
    "mf_fl = getMostFrequentFeatureAsDf(df_decoded, \"FinelineNumber\")\n",
    "# mf_dd = getMostFrequentFeatureAsDf(df_decoded, \"DepartmentDescription\")\n",
    "mf_company = getMostFrequentFeatureAsDf(df_decoded, \"Company\")\n",
    "# mf_upc = getMostFrequentFeatureAsDf(df_decoded, \"Upc\")"
   ]
  },
  {
   "cell_type": "code",
   "execution_count": 25,
   "metadata": {
    "scrolled": true
   },
   "outputs": [
    {
     "name": "stdout",
     "output_type": "stream",
     "text": [
      "0까지 진행됨. 95674개 남음.\n",
      "5000까지 진행됨. 90674개 남음.\n",
      "10000까지 진행됨. 85674개 남음.\n",
      "15000까지 진행됨. 80674개 남음.\n",
      "20000까지 진행됨. 75674개 남음.\n",
      "25000까지 진행됨. 70674개 남음.\n",
      "30000까지 진행됨. 65674개 남음.\n",
      "35000까지 진행됨. 60674개 남음.\n",
      "40000까지 진행됨. 55674개 남음.\n",
      "45000까지 진행됨. 50674개 남음.\n",
      "50000까지 진행됨. 45674개 남음.\n",
      "55000까지 진행됨. 40674개 남음.\n",
      "60000까지 진행됨. 35674개 남음.\n",
      "65000까지 진행됨. 30674개 남음.\n",
      "70000까지 진행됨. 25674개 남음.\n",
      "75000까지 진행됨. 20674개 남음.\n",
      "80000까지 진행됨. 15674개 남음.\n",
      "85000까지 진행됨. 10674개 남음.\n",
      "90000까지 진행됨. 5674개 남음.\n",
      "95000까지 진행됨. 674개 남음.\n",
      "0까지 진행됨. 95674개 남음.\n",
      "5000까지 진행됨. 90674개 남음.\n",
      "10000까지 진행됨. 85674개 남음.\n",
      "15000까지 진행됨. 80674개 남음.\n",
      "20000까지 진행됨. 75674개 남음.\n",
      "25000까지 진행됨. 70674개 남음.\n",
      "30000까지 진행됨. 65674개 남음.\n",
      "35000까지 진행됨. 60674개 남음.\n",
      "40000까지 진행됨. 55674개 남음.\n",
      "45000까지 진행됨. 50674개 남음.\n",
      "50000까지 진행됨. 45674개 남음.\n",
      "55000까지 진행됨. 40674개 남음.\n",
      "60000까지 진행됨. 35674개 남음.\n",
      "65000까지 진행됨. 30674개 남음.\n",
      "70000까지 진행됨. 25674개 남음.\n",
      "75000까지 진행됨. 20674개 남음.\n",
      "80000까지 진행됨. 15674개 남음.\n",
      "85000까지 진행됨. 10674개 남음.\n",
      "90000까지 진행됨. 5674개 남음.\n",
      "95000까지 진행됨. 674개 남음.\n"
     ]
    }
   ],
   "source": [
    "mf_fl_test = getMostFrequentFeatureAsDf(df_test_decoded, \"FinelineNumber\")\n",
    "mf_company_test = getMostFrequentFeatureAsDf(df_test_decoded, \"Company\")"
   ]
  },
  {
   "cell_type": "code",
   "execution_count": 26,
   "metadata": {},
   "outputs": [],
   "source": [
    "mf_fl_test_dummies = getDummiesDf(mf_fl_test)"
   ]
  },
  {
   "cell_type": "code",
   "execution_count": 27,
   "metadata": {},
   "outputs": [],
   "source": [
    "mf_company_test_dummies = getDummiesDf(mf_company_test)"
   ]
  },
  {
   "cell_type": "code",
   "execution_count": null,
   "metadata": {},
   "outputs": [],
   "source": []
  },
  {
   "cell_type": "code",
   "execution_count": 53,
   "metadata": {},
   "outputs": [],
   "source": [
    "af.saveDataFrameToCsv(mf_fl, \"mf_fl_train\")\n",
    "af.saveDataFrameToCsv(mf_company, \"mf_company_train\")"
   ]
  },
  {
   "cell_type": "code",
   "execution_count": 55,
   "metadata": {},
   "outputs": [],
   "source": [
    "af.saveDataFrameToCsv(mf_fl_test, \"mf_fl_test\")\n",
    "af.saveDataFrameToCsv(mf_company_test, \"mf_company_test\")"
   ]
  },
  {
   "cell_type": "code",
   "execution_count": null,
   "metadata": {},
   "outputs": [],
   "source": []
  },
  {
   "cell_type": "code",
   "execution_count": null,
   "metadata": {},
   "outputs": [],
   "source": []
  },
  {
   "cell_type": "code",
   "execution_count": 29,
   "metadata": {},
   "outputs": [],
   "source": [
    "df_test = concatDf(df_test_dd, mf_fl_test_dummies)"
   ]
  },
  {
   "cell_type": "code",
   "execution_count": 30,
   "metadata": {},
   "outputs": [],
   "source": [
    "df_test = concatDf(df_test, mf_company_test_dummies)"
   ]
  },
  {
   "cell_type": "code",
   "execution_count": 31,
   "metadata": {},
   "outputs": [],
   "source": [
    "X_test = af.get_df_to_fit(df_test, True)"
   ]
  },
  {
   "cell_type": "code",
   "execution_count": 35,
   "metadata": {},
   "outputs": [],
   "source": [
    "X_test.drop(\"index\", axis = 1, inplace=True)"
   ]
  },
  {
   "cell_type": "code",
   "execution_count": 56,
   "metadata": {},
   "outputs": [
    {
     "data": {
      "text/plain": [
       "Index(['Return', '1-HR PHOTO', 'ACCESSORIES', 'AUTOMOTIVE', 'BAKERY',\n",
       "       'BATH AND SHOWER', 'BEAUTY', 'BEDDING', 'BOOKS AND MAGAZINES',\n",
       "       'BOYS WEAR',\n",
       "       ...\n",
       "       '898078', '898115', '898628', '898999', '899053', '899407', '899539',\n",
       "       '899792', '95', '98'],\n",
       "      dtype='object', length=8161)"
      ]
     },
     "execution_count": 56,
     "metadata": {},
     "output_type": "execute_result"
    }
   ],
   "source": [
    "X_test.columns"
   ]
  },
  {
   "cell_type": "code",
   "execution_count": null,
   "metadata": {},
   "outputs": [],
   "source": []
  },
  {
   "cell_type": "code",
   "execution_count": 7,
   "metadata": {
    "scrolled": true
   },
   "outputs": [],
   "source": [
    "mf_fl_dummies = getDummiesDf(mf_fl)"
   ]
  },
  {
   "cell_type": "code",
   "execution_count": 8,
   "metadata": {},
   "outputs": [],
   "source": [
    "mf_company_dummies = getDummiesDf(mf_company)"
   ]
  },
  {
   "cell_type": "code",
   "execution_count": 9,
   "metadata": {},
   "outputs": [],
   "source": [
    "df_train = concatDf(df_train_dd, mf_fl_dummies)"
   ]
  },
  {
   "cell_type": "code",
   "execution_count": 10,
   "metadata": {},
   "outputs": [],
   "source": [
    "df_train = concatDf(df_train, mf_company_dummies)"
   ]
  },
  {
   "cell_type": "code",
   "execution_count": 11,
   "metadata": {},
   "outputs": [],
   "source": [
    "X, y = af.get_df_to_fit(df_train)"
   ]
  },
  {
   "cell_type": "code",
   "execution_count": 12,
   "metadata": {},
   "outputs": [
    {
     "data": {
      "text/plain": [
       "Index(['Return', '1-HR PHOTO', 'ACCESSORIES', 'AUTOMOTIVE', 'BAKERY',\n",
       "       'BATH AND SHOWER', 'BEAUTY', 'BEDDING', 'BOOKS AND MAGAZINES',\n",
       "       'BOYS WEAR',\n",
       "       ...\n",
       "       '898078', '898115', '898628', '898639', '898999', '899407', '899539',\n",
       "       '899675', '95', '98'],\n",
       "      dtype='object', length=8096)"
      ]
     },
     "execution_count": 12,
     "metadata": {},
     "output_type": "execute_result"
    }
   ],
   "source": [
    "X.columns"
   ]
  },
  {
   "cell_type": "code",
   "execution_count": null,
   "metadata": {},
   "outputs": [],
   "source": []
  },
  {
   "cell_type": "code",
   "execution_count": null,
   "metadata": {},
   "outputs": [],
   "source": []
  },
  {
   "cell_type": "code",
   "execution_count": null,
   "metadata": {},
   "outputs": [],
   "source": []
  },
  {
   "cell_type": "code",
   "execution_count": null,
   "metadata": {},
   "outputs": [],
   "source": []
  },
  {
   "cell_type": "code",
   "execution_count": 14,
   "metadata": {},
   "outputs": [],
   "source": [
    "csr_train = csr_matrix(X)"
   ]
  },
  {
   "cell_type": "code",
   "execution_count": 16,
   "metadata": {},
   "outputs": [],
   "source": [
    "model_xgb = xgboost.XGBClassifier(n_estimators=100, max_depth=7, objective=\"multi:softprob\", n_jobs=4, learning_rate=0.2, eval_metric=\"mlogloss\")"
   ]
  },
  {
   "cell_type": "code",
   "execution_count": 17,
   "metadata": {},
   "outputs": [
    {
     "data": {
      "text/plain": [
       "XGBClassifier(base_score=0.5, booster='gbtree', colsample_bylevel=1,\n",
       "       colsample_bytree=1, eval_metric='mlogloss', gamma=0,\n",
       "       learning_rate=0.2, max_delta_step=0, max_depth=7,\n",
       "       min_child_weight=1, missing=None, n_estimators=100, n_jobs=4,\n",
       "       nthread=None, objective='multi:softprob', random_state=0,\n",
       "       reg_alpha=0, reg_lambda=1, scale_pos_weight=1, seed=None,\n",
       "       silent=True, subsample=1)"
      ]
     },
     "execution_count": 17,
     "metadata": {},
     "output_type": "execute_result"
    }
   ],
   "source": [
    "model_xgb.fit(csr_train, y)"
   ]
  },
  {
   "cell_type": "code",
   "execution_count": 18,
   "metadata": {},
   "outputs": [],
   "source": [
    "y_pred_1 = model_xgb.predict(csr_train)"
   ]
  },
  {
   "cell_type": "code",
   "execution_count": 22,
   "metadata": {},
   "outputs": [],
   "source": [
    "y_pred_proba = model_xgb.predict_proba(csr_train)"
   ]
  },
  {
   "cell_type": "code",
   "execution_count": 23,
   "metadata": {},
   "outputs": [
    {
     "data": {
      "text/plain": [
       "0.5979328327168911"
      ]
     },
     "execution_count": 23,
     "metadata": {},
     "output_type": "execute_result"
    }
   ],
   "source": [
    "log_loss(y, y_pred_proba)"
   ]
  },
  {
   "cell_type": "code",
   "execution_count": 19,
   "metadata": {},
   "outputs": [
    {
     "data": {
      "text/markdown": [
       "##### Accuracy : 0.8206"
      ],
      "text/plain": [
       "<IPython.core.display.Markdown object>"
      ]
     },
     "metadata": {},
     "output_type": "display_data"
    }
   ],
   "source": [
    "af.getAccuracy(y, y_pred_1, len(X))"
   ]
  },
  {
   "cell_type": "code",
   "execution_count": 21,
   "metadata": {
    "scrolled": true
   },
   "outputs": [
    {
     "name": "stdout",
     "output_type": "stream",
     "text": [
      "             precision    recall  f1-score   support\n",
      "\n",
      "          3       0.95      0.97      0.96      3643\n",
      "          4       0.84      0.76      0.80       346\n",
      "          5       0.81      0.92      0.86      4593\n",
      "          6       0.87      0.92      0.90      1277\n",
      "          7       0.79      0.79      0.79      5752\n",
      "          8       0.82      0.87      0.84     12161\n",
      "          9       0.80      0.80      0.80      9464\n",
      "         12       0.90      0.61      0.73       269\n",
      "         14       1.00      0.75      0.86         4\n",
      "         15       0.81      0.64      0.71       978\n",
      "         18       0.68      0.71      0.70       549\n",
      "         19       0.85      0.76      0.80       375\n",
      "         20       0.81      0.80      0.81       637\n",
      "         21       0.84      0.80      0.82       641\n",
      "         22       0.75      0.76      0.75       928\n",
      "         23       0.89      0.84      0.86       139\n",
      "         24       0.76      0.81      0.78      2609\n",
      "         25       0.82      0.87      0.85      3698\n",
      "         26       0.76      0.69      0.72       503\n",
      "         27       0.81      0.81      0.81       785\n",
      "         28       0.68      0.71      0.69       492\n",
      "         29       0.87      0.59      0.71       433\n",
      "         30       0.69      0.68      0.68      1081\n",
      "         31       0.88      0.94      0.91       594\n",
      "         32       0.79      0.89      0.84      1984\n",
      "         33       0.79      0.69      0.74      1315\n",
      "         34       0.79      0.79      0.79       719\n",
      "         35       0.80      0.70      0.75      2030\n",
      "         36       0.75      0.75      0.75      3005\n",
      "         37       0.79      0.75      0.77      2788\n",
      "         38       0.78      0.62      0.69      2912\n",
      "         39       0.71      0.79      0.75      9896\n",
      "         40       0.94      0.96      0.95      6130\n",
      "         41       0.96      0.61      0.75       583\n",
      "         42       0.90      0.67      0.77      1858\n",
      "         43       0.91      0.41      0.57       872\n",
      "         44       0.99      0.82      0.90      1187\n",
      "        999       0.94      0.89      0.91      8444\n",
      "\n",
      "avg / total       0.82      0.82      0.82     95674\n",
      "\n"
     ]
    }
   ],
   "source": [
    "print(classification_report(y, y_pred_1))"
   ]
  },
  {
   "cell_type": "code",
   "execution_count": null,
   "metadata": {},
   "outputs": [],
   "source": []
  },
  {
   "cell_type": "code",
   "execution_count": null,
   "metadata": {},
   "outputs": [],
   "source": []
  },
  {
   "cell_type": "code",
   "execution_count": 57,
   "metadata": {},
   "outputs": [],
   "source": [
    "category_cnt = pd.read_csv(\"Feature_matrix/category_count.csv\")"
   ]
  },
  {
   "cell_type": "code",
   "execution_count": 61,
   "metadata": {},
   "outputs": [],
   "source": [
    "category_cnt.drop(\"vn\", axis=1, inplace=True)"
   ]
  },
  {
   "cell_type": "code",
   "execution_count": 68,
   "metadata": {},
   "outputs": [],
   "source": [
    "df_train = train.copy()"
   ]
  },
  {
   "cell_type": "code",
   "execution_count": 75,
   "metadata": {},
   "outputs": [],
   "source": [
    "sc_total = df_train.groupby(\"VisitNumber\").sum()[\"ScanCount\"].reset_index(name=\"SC_Total\")"
   ]
  },
  {
   "cell_type": "code",
   "execution_count": 76,
   "metadata": {},
   "outputs": [],
   "source": [
    "sc_total.drop(\"VisitNumber\", axis = 1, inplace=True)"
   ]
  },
  {
   "cell_type": "code",
   "execution_count": null,
   "metadata": {},
   "outputs": [],
   "source": []
  },
  {
   "cell_type": "code",
   "execution_count": 63,
   "metadata": {},
   "outputs": [],
   "source": [
    "df_new_dd = concatDf(df_train_dd, category_cnt)"
   ]
  },
  {
   "cell_type": "code",
   "execution_count": 77,
   "metadata": {},
   "outputs": [],
   "source": [
    "df_new_dd = concatDf(df_new_dd, sc_total)"
   ]
  },
  {
   "cell_type": "code",
   "execution_count": null,
   "metadata": {},
   "outputs": [],
   "source": []
  },
  {
   "cell_type": "code",
   "execution_count": null,
   "metadata": {},
   "outputs": [],
   "source": []
  },
  {
   "cell_type": "code",
   "execution_count": 79,
   "metadata": {},
   "outputs": [],
   "source": [
    "X, y = af.get_df_to_fit(df_new_dd)"
   ]
  },
  {
   "cell_type": "code",
   "execution_count": null,
   "metadata": {},
   "outputs": [],
   "source": []
  },
  {
   "cell_type": "code",
   "execution_count": 80,
   "metadata": {},
   "outputs": [],
   "source": [
    "import xgboost as xgb\n",
    "from sklearn.model_selection import train_test_split\n",
    "from sklearn.preprocessing import LabelEncoder\n",
    "label_enc = LabelEncoder().fit(y)\n",
    "y_labeled = label_enc.transform(y)"
   ]
  },
  {
   "cell_type": "code",
   "execution_count": 81,
   "metadata": {},
   "outputs": [],
   "source": [
    "X_train, X_test, y_train, y_test = train_test_split(X, y_labeled, random_state=0)"
   ]
  },
  {
   "cell_type": "code",
   "execution_count": 82,
   "metadata": {},
   "outputs": [],
   "source": [
    "dtrain = xgb.DMatrix(X_train.values, label=y_train)\n",
    "dtest = xgb.DMatrix(X_test.values, label=y_test)"
   ]
  },
  {
   "cell_type": "code",
   "execution_count": 83,
   "metadata": {
    "scrolled": true
   },
   "outputs": [
    {
     "name": "stdout",
     "output_type": "stream",
     "text": [
      "[0]\ttrain-mlogloss:3.0732\teval-mlogloss:3.082\n",
      "Multiple eval metrics have been passed: 'eval-mlogloss' will be used for early stopping.\n",
      "\n",
      "Will train until eval-mlogloss hasn't improved in 10 rounds.\n",
      "[1]\ttrain-mlogloss:2.56934\teval-mlogloss:2.5889\n",
      "[2]\ttrain-mlogloss:2.17581\teval-mlogloss:2.20655\n",
      "[3]\ttrain-mlogloss:1.89203\teval-mlogloss:1.93096\n",
      "[4]\ttrain-mlogloss:1.70131\teval-mlogloss:1.74664\n",
      "[5]\ttrain-mlogloss:1.5602\teval-mlogloss:1.61129\n",
      "[6]\ttrain-mlogloss:1.45014\teval-mlogloss:1.5063\n",
      "[7]\ttrain-mlogloss:1.36103\teval-mlogloss:1.42181\n",
      "[8]\ttrain-mlogloss:1.28573\teval-mlogloss:1.35111\n",
      "[9]\ttrain-mlogloss:1.22311\teval-mlogloss:1.29336\n",
      "[10]\ttrain-mlogloss:1.17032\teval-mlogloss:1.24455\n",
      "[11]\ttrain-mlogloss:1.12519\teval-mlogloss:1.20331\n",
      "[12]\ttrain-mlogloss:1.08678\teval-mlogloss:1.16857\n",
      "[13]\ttrain-mlogloss:1.05241\teval-mlogloss:1.13772\n",
      "[14]\ttrain-mlogloss:1.02333\teval-mlogloss:1.1121\n",
      "[15]\ttrain-mlogloss:0.996832\teval-mlogloss:1.08907\n",
      "[16]\ttrain-mlogloss:0.972933\teval-mlogloss:1.06877\n",
      "[17]\ttrain-mlogloss:0.952264\teval-mlogloss:1.05127\n",
      "[18]\ttrain-mlogloss:0.93391\teval-mlogloss:1.03632\n",
      "[19]\ttrain-mlogloss:0.916807\teval-mlogloss:1.0227\n",
      "[20]\ttrain-mlogloss:0.901056\teval-mlogloss:1.00993\n",
      "[21]\ttrain-mlogloss:0.887323\teval-mlogloss:0.999157\n",
      "[22]\ttrain-mlogloss:0.874833\teval-mlogloss:0.989203\n",
      "[23]\ttrain-mlogloss:0.863116\teval-mlogloss:0.980099\n",
      "[24]\ttrain-mlogloss:0.852426\teval-mlogloss:0.972254\n",
      "[25]\ttrain-mlogloss:0.842496\teval-mlogloss:0.965002\n",
      "[26]\ttrain-mlogloss:0.833161\teval-mlogloss:0.958196\n",
      "[27]\ttrain-mlogloss:0.824393\teval-mlogloss:0.951872\n",
      "[28]\ttrain-mlogloss:0.816382\teval-mlogloss:0.946555\n",
      "[29]\ttrain-mlogloss:0.808674\teval-mlogloss:0.941561\n",
      "[30]\ttrain-mlogloss:0.801726\teval-mlogloss:0.937035\n",
      "[31]\ttrain-mlogloss:0.794984\teval-mlogloss:0.932602\n",
      "[32]\ttrain-mlogloss:0.788905\teval-mlogloss:0.928892\n",
      "[33]\ttrain-mlogloss:0.78314\teval-mlogloss:0.925323\n",
      "[34]\ttrain-mlogloss:0.77742\teval-mlogloss:0.921906\n",
      "[35]\ttrain-mlogloss:0.772146\teval-mlogloss:0.91884\n",
      "[36]\ttrain-mlogloss:0.767017\teval-mlogloss:0.915972\n",
      "[37]\ttrain-mlogloss:0.762308\teval-mlogloss:0.913336\n",
      "[38]\ttrain-mlogloss:0.757982\teval-mlogloss:0.911081\n",
      "[39]\ttrain-mlogloss:0.753495\teval-mlogloss:0.908835\n",
      "[40]\ttrain-mlogloss:0.749498\teval-mlogloss:0.90679\n",
      "[41]\ttrain-mlogloss:0.745528\teval-mlogloss:0.904948\n",
      "[42]\ttrain-mlogloss:0.741771\teval-mlogloss:0.903095\n",
      "[43]\ttrain-mlogloss:0.738043\teval-mlogloss:0.901311\n",
      "[44]\ttrain-mlogloss:0.734537\teval-mlogloss:0.899877\n",
      "[45]\ttrain-mlogloss:0.731076\teval-mlogloss:0.898232\n",
      "[46]\ttrain-mlogloss:0.727927\teval-mlogloss:0.896729\n",
      "[47]\ttrain-mlogloss:0.724685\teval-mlogloss:0.895136\n",
      "[48]\ttrain-mlogloss:0.721718\teval-mlogloss:0.894089\n",
      "[49]\ttrain-mlogloss:0.718749\teval-mlogloss:0.893048\n",
      "[50]\ttrain-mlogloss:0.715829\teval-mlogloss:0.89181\n",
      "[51]\ttrain-mlogloss:0.713004\teval-mlogloss:0.890879\n",
      "[52]\ttrain-mlogloss:0.710169\teval-mlogloss:0.889804\n",
      "[53]\ttrain-mlogloss:0.707621\teval-mlogloss:0.888905\n",
      "[54]\ttrain-mlogloss:0.705006\teval-mlogloss:0.887932\n",
      "[55]\ttrain-mlogloss:0.702351\teval-mlogloss:0.886981\n",
      "[56]\ttrain-mlogloss:0.699793\teval-mlogloss:0.886124\n",
      "[57]\ttrain-mlogloss:0.697415\teval-mlogloss:0.885439\n",
      "[58]\ttrain-mlogloss:0.695296\teval-mlogloss:0.884574\n",
      "[59]\ttrain-mlogloss:0.693108\teval-mlogloss:0.883939\n",
      "[60]\ttrain-mlogloss:0.691081\teval-mlogloss:0.883117\n",
      "[61]\ttrain-mlogloss:0.688814\teval-mlogloss:0.882633\n",
      "[62]\ttrain-mlogloss:0.686853\teval-mlogloss:0.88211\n",
      "[63]\ttrain-mlogloss:0.68487\teval-mlogloss:0.881553\n",
      "[64]\ttrain-mlogloss:0.682858\teval-mlogloss:0.880898\n",
      "[65]\ttrain-mlogloss:0.681017\teval-mlogloss:0.880412\n",
      "[66]\ttrain-mlogloss:0.679031\teval-mlogloss:0.879728\n",
      "[67]\ttrain-mlogloss:0.677103\teval-mlogloss:0.879169\n",
      "[68]\ttrain-mlogloss:0.675251\teval-mlogloss:0.878719\n",
      "[69]\ttrain-mlogloss:0.673484\teval-mlogloss:0.878191\n",
      "[70]\ttrain-mlogloss:0.671667\teval-mlogloss:0.877756\n",
      "[71]\ttrain-mlogloss:0.669799\teval-mlogloss:0.877331\n",
      "[72]\ttrain-mlogloss:0.668029\teval-mlogloss:0.876813\n",
      "[73]\ttrain-mlogloss:0.666298\teval-mlogloss:0.876475\n",
      "[74]\ttrain-mlogloss:0.664492\teval-mlogloss:0.876179\n",
      "[75]\ttrain-mlogloss:0.662687\teval-mlogloss:0.875868\n",
      "[76]\ttrain-mlogloss:0.660994\teval-mlogloss:0.87568\n",
      "[77]\ttrain-mlogloss:0.659376\teval-mlogloss:0.87529\n",
      "[78]\ttrain-mlogloss:0.657656\teval-mlogloss:0.87507\n",
      "[79]\ttrain-mlogloss:0.65583\teval-mlogloss:0.874644\n",
      "[80]\ttrain-mlogloss:0.654325\teval-mlogloss:0.874289\n",
      "[81]\ttrain-mlogloss:0.652834\teval-mlogloss:0.874058\n",
      "[82]\ttrain-mlogloss:0.651152\teval-mlogloss:0.873677\n",
      "[83]\ttrain-mlogloss:0.649359\teval-mlogloss:0.873332\n",
      "[84]\ttrain-mlogloss:0.64787\teval-mlogloss:0.873123\n",
      "[85]\ttrain-mlogloss:0.646341\teval-mlogloss:0.872879\n",
      "[86]\ttrain-mlogloss:0.644931\teval-mlogloss:0.87261\n",
      "[87]\ttrain-mlogloss:0.643397\teval-mlogloss:0.872468\n",
      "[88]\ttrain-mlogloss:0.64195\teval-mlogloss:0.872316\n",
      "[89]\ttrain-mlogloss:0.640513\teval-mlogloss:0.872122\n",
      "[90]\ttrain-mlogloss:0.639294\teval-mlogloss:0.871962\n",
      "[91]\ttrain-mlogloss:0.637805\teval-mlogloss:0.871794\n",
      "[92]\ttrain-mlogloss:0.636197\teval-mlogloss:0.871563\n",
      "[93]\ttrain-mlogloss:0.634905\teval-mlogloss:0.871232\n",
      "[94]\ttrain-mlogloss:0.633584\teval-mlogloss:0.870959\n",
      "[95]\ttrain-mlogloss:0.632018\teval-mlogloss:0.870891\n",
      "[96]\ttrain-mlogloss:0.630506\teval-mlogloss:0.870632\n",
      "[97]\ttrain-mlogloss:0.629257\teval-mlogloss:0.87043\n",
      "[98]\ttrain-mlogloss:0.627996\teval-mlogloss:0.870382\n",
      "[99]\ttrain-mlogloss:0.626682\teval-mlogloss:0.870339\n",
      "[100]\ttrain-mlogloss:0.625533\teval-mlogloss:0.870242\n",
      "[101]\ttrain-mlogloss:0.624431\teval-mlogloss:0.870227\n",
      "[102]\ttrain-mlogloss:0.623244\teval-mlogloss:0.870098\n",
      "[103]\ttrain-mlogloss:0.622037\teval-mlogloss:0.869938\n",
      "[104]\ttrain-mlogloss:0.620742\teval-mlogloss:0.869671\n",
      "[105]\ttrain-mlogloss:0.619601\teval-mlogloss:0.869547\n",
      "[106]\ttrain-mlogloss:0.618478\teval-mlogloss:0.869579\n",
      "[107]\ttrain-mlogloss:0.617343\teval-mlogloss:0.869426\n",
      "[108]\ttrain-mlogloss:0.616216\teval-mlogloss:0.869444\n",
      "[109]\ttrain-mlogloss:0.615233\teval-mlogloss:0.869388\n",
      "[110]\ttrain-mlogloss:0.614081\teval-mlogloss:0.8693\n",
      "[111]\ttrain-mlogloss:0.612886\teval-mlogloss:0.86921\n",
      "[112]\ttrain-mlogloss:0.611727\teval-mlogloss:0.869079\n",
      "[113]\ttrain-mlogloss:0.610579\teval-mlogloss:0.869082\n",
      "[114]\ttrain-mlogloss:0.609561\teval-mlogloss:0.869003\n",
      "[115]\ttrain-mlogloss:0.608519\teval-mlogloss:0.868926\n",
      "[116]\ttrain-mlogloss:0.607473\teval-mlogloss:0.868798\n",
      "[117]\ttrain-mlogloss:0.606335\teval-mlogloss:0.86894\n",
      "[118]\ttrain-mlogloss:0.605152\teval-mlogloss:0.86896\n",
      "[119]\ttrain-mlogloss:0.60406\teval-mlogloss:0.868954\n",
      "[120]\ttrain-mlogloss:0.603051\teval-mlogloss:0.868833\n",
      "[121]\ttrain-mlogloss:0.602061\teval-mlogloss:0.868825\n",
      "[122]\ttrain-mlogloss:0.600953\teval-mlogloss:0.868754\n",
      "[123]\ttrain-mlogloss:0.599859\teval-mlogloss:0.868694\n",
      "[124]\ttrain-mlogloss:0.598787\teval-mlogloss:0.868541\n",
      "[125]\ttrain-mlogloss:0.597832\teval-mlogloss:0.868577\n",
      "[126]\ttrain-mlogloss:0.59665\teval-mlogloss:0.868582\n",
      "[127]\ttrain-mlogloss:0.595601\teval-mlogloss:0.868551\n",
      "[128]\ttrain-mlogloss:0.594701\teval-mlogloss:0.868453\n",
      "[129]\ttrain-mlogloss:0.593676\teval-mlogloss:0.868578\n",
      "[130]\ttrain-mlogloss:0.592764\teval-mlogloss:0.868465\n",
      "[131]\ttrain-mlogloss:0.591902\teval-mlogloss:0.868505\n",
      "[132]\ttrain-mlogloss:0.590995\teval-mlogloss:0.868553\n",
      "[133]\ttrain-mlogloss:0.59002\teval-mlogloss:0.868581\n",
      "[134]\ttrain-mlogloss:0.589036\teval-mlogloss:0.868651\n",
      "[135]\ttrain-mlogloss:0.588048\teval-mlogloss:0.868749\n",
      "[136]\ttrain-mlogloss:0.587158\teval-mlogloss:0.868833\n",
      "[137]\ttrain-mlogloss:0.586227\teval-mlogloss:0.868999\n",
      "[138]\ttrain-mlogloss:0.585357\teval-mlogloss:0.869001\n",
      "Stopping. Best iteration:\n",
      "[128]\ttrain-mlogloss:0.594701\teval-mlogloss:0.868453\n",
      "\n"
     ]
    }
   ],
   "source": [
    "num_boost_round = 300\n",
    "params = {'objective': 'multi:softprob', \n",
    "          'eval_metric': 'mlogloss',\n",
    "          'num_class':38, \n",
    "          'max_delta_step': 3, \n",
    "          'eta': 0.2}\n",
    "\n",
    "evals = [(dtrain, 'train'), (dtest, 'eval')]\n",
    "\n",
    "bst = xgb.train(params=params,  \n",
    "                dtrain=dtrain, \n",
    "                num_boost_round=num_boost_round, \n",
    "                evals=evals,\n",
    "                early_stopping_rounds=10,)"
   ]
  },
  {
   "cell_type": "code",
   "execution_count": null,
   "metadata": {},
   "outputs": [],
   "source": []
  },
  {
   "cell_type": "code",
   "execution_count": null,
   "metadata": {},
   "outputs": [],
   "source": []
  },
  {
   "cell_type": "code",
   "execution_count": null,
   "metadata": {},
   "outputs": [],
   "source": [
    "from keras.models import Sequential\n",
    "from keras.layers.core import Dense\n",
    "# from keras.optimizers import SGD\n",
    "from keras.optimizers import Adagrad\n",
    "from keras.utils import np_utils\n",
    "from sklearn.model_selection import train_test_split\n",
    "X_train, X_test, y_train, y_test = train_test_split(X, y, test_size=0.4, random_state=0)\n",
    "\n",
    "from sklearn.preprocessing import LabelBinarizer\n",
    "lb = LabelBinarizer()\n",
    "Y_train = lb.fit_transform(y_train)\n",
    "Y_test = lb.fit_transform(y_test)\n",
    "\n",
    "# y_pred = lb.inverse_transform(np.round(predictions))\n",
    "# y_true = lb.inverse_transform(train_y)"
   ]
  },
  {
   "cell_type": "code",
   "execution_count": null,
   "metadata": {},
   "outputs": [],
   "source": [
    "model1 = Sequential()\n",
    "model1.add(Dense(10, input_dim=77, activation=\"sigmoid\", kernel_initializer=\"glorot_uniform\"))\n",
    "model1.add(Dense(20, activation=\"sigmoid\"))\n",
    "model1.add(Dense(38, activation=\"softmax\"))\n",
    "model1.compile(optimizer=Adagrad(lr=1.1), loss='categorical_crossentropy', metrics=[\"accuracy\"])"
   ]
  },
  {
   "cell_type": "code",
   "execution_count": null,
   "metadata": {},
   "outputs": [],
   "source": [
    "%%time\n",
    "hist1 = model1.fit(X_train, Y_train, epochs=100, batch_size=1000, validation_data=(X_test, Y_test), verbose=1)"
   ]
  },
  {
   "cell_type": "code",
   "execution_count": null,
   "metadata": {},
   "outputs": [],
   "source": []
  },
  {
   "cell_type": "code",
   "execution_count": null,
   "metadata": {},
   "outputs": [],
   "source": []
  },
  {
   "cell_type": "code",
   "execution_count": 83,
   "metadata": {},
   "outputs": [
    {
     "data": {
      "text/markdown": [
       "##### Accuracy : 0.933"
      ],
      "text/plain": [
       "<IPython.core.display.Markdown object>"
      ]
     },
     "metadata": {},
     "output_type": "display_data"
    }
   ],
   "source": [
    "af.getAccuracy(y, y_pred_1, len(X))"
   ]
  },
  {
   "cell_type": "code",
   "execution_count": null,
   "metadata": {},
   "outputs": [],
   "source": []
  },
  {
   "cell_type": "code",
   "execution_count": null,
   "metadata": {},
   "outputs": [],
   "source": []
  },
  {
   "cell_type": "code",
   "execution_count": 75,
   "metadata": {
    "scrolled": true
   },
   "outputs": [
    {
     "data": {
      "text/plain": [
       "XGBClassifier(base_score=0.5, booster='gbtree', colsample_bylevel=1,\n",
       "       colsample_bytree=1, gamma=0, learning_rate=0.1, max_delta_step=0,\n",
       "       max_depth=3, min_child_weight=1, missing=None, n_estimators=100,\n",
       "       n_jobs=1, nthread=None, objective='multi:softprob', random_state=0,\n",
       "       reg_alpha=0, reg_lambda=1, scale_pos_weight=1, seed=None,\n",
       "       silent=True, subsample=1)"
      ]
     },
     "execution_count": 75,
     "metadata": {},
     "output_type": "execute_result"
    }
   ],
   "source": [
    "model_xgb.fit(csr_train, y)"
   ]
  },
  {
   "cell_type": "code",
   "execution_count": 76,
   "metadata": {},
   "outputs": [],
   "source": [
    "y_pred = model_xgb.predict(csr_train)"
   ]
  },
  {
   "cell_type": "code",
   "execution_count": 77,
   "metadata": {},
   "outputs": [
    {
     "data": {
      "text/markdown": [
       "##### Accuracy : 0.6716"
      ],
      "text/plain": [
       "<IPython.core.display.Markdown object>"
      ]
     },
     "metadata": {},
     "output_type": "display_data"
    }
   ],
   "source": [
    "af.getAccuracy(y, y_pred, len(X))"
   ]
  },
  {
   "cell_type": "code",
   "execution_count": 78,
   "metadata": {},
   "outputs": [
    {
     "data": {
      "text/plain": [
       "1.0898283312467638"
      ]
     },
     "execution_count": 78,
     "metadata": {},
     "output_type": "execute_result"
    }
   ],
   "source": [
    "log_loss(y, model_xgb.predict_proba(csr_train))"
   ]
  },
  {
   "cell_type": "code",
   "execution_count": null,
   "metadata": {},
   "outputs": [],
   "source": []
  },
  {
   "cell_type": "code",
   "execution_count": null,
   "metadata": {},
   "outputs": [],
   "source": []
  },
  {
   "cell_type": "code",
   "execution_count": null,
   "metadata": {},
   "outputs": [],
   "source": []
  },
  {
   "cell_type": "code",
   "execution_count": null,
   "metadata": {},
   "outputs": [],
   "source": []
  },
  {
   "cell_type": "code",
   "execution_count": null,
   "metadata": {},
   "outputs": [],
   "source": []
  },
  {
   "cell_type": "code",
   "execution_count": null,
   "metadata": {},
   "outputs": [],
   "source": []
  },
  {
   "cell_type": "code",
   "execution_count": null,
   "metadata": {},
   "outputs": [],
   "source": []
  },
  {
   "cell_type": "code",
   "execution_count": null,
   "metadata": {},
   "outputs": [],
   "source": []
  },
  {
   "cell_type": "code",
   "execution_count": null,
   "metadata": {},
   "outputs": [],
   "source": []
  },
  {
   "cell_type": "code",
   "execution_count": null,
   "metadata": {},
   "outputs": [],
   "source": []
  },
  {
   "cell_type": "code",
   "execution_count": null,
   "metadata": {},
   "outputs": [],
   "source": []
  },
  {
   "cell_type": "code",
   "execution_count": null,
   "metadata": {},
   "outputs": [],
   "source": []
  }
 ],
 "metadata": {
  "kernelspec": {
   "display_name": "Python 3",
   "language": "python",
   "name": "python3"
  },
  "language_info": {
   "codemirror_mode": {
    "name": "ipython",
    "version": 3
   },
   "file_extension": ".py",
   "mimetype": "text/x-python",
   "name": "python",
   "nbconvert_exporter": "python",
   "pygments_lexer": "ipython3",
   "version": "3.6.5"
  }
 },
 "nbformat": 4,
 "nbformat_minor": 2
}
